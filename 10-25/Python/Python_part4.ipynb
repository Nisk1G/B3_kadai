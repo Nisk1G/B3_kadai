{
 "cells": [
  {
   "cell_type": "code",
   "execution_count": null,
   "metadata": {},
   "outputs": [],
   "source": []
  }
 ],
 "metadata": {
  "kernelspec": {
   "display_name": "Python 3.8.8 64-bit ('base')",
   "language": "python",
   "name": "python3"
  },
  "language_info": {
   "name": "python",
   "version": "3.8.8"
  },
  "orig_nbformat": 4,
  "vscode": {
   "interpreter": {
    "hash": "44e4aa96e67b7877dfa869da77545f623b459fdf3b489098e7165c7b55557384"
   }
  }
 },
 "nbformat": 4,
 "nbformat_minor": 2
}
