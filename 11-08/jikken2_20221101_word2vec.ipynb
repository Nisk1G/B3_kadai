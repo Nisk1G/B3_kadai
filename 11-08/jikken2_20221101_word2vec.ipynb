{
  "cells": [
    {
      "cell_type": "markdown",
      "metadata": {
        "id": "pcwwkYi6tc_S"
      },
      "source": [
        "# 実験II 資料 \n",
        "\n",
        "2022.11.1:  \n",
        "岡田 真 OKADA, Makoto"
      ]
    },
    {
      "cell_type": "markdown",
      "metadata": {
        "id": "YpvaSCoPtqme"
      },
      "source": [
        "# Word2Vec 演習 \n",
        "# Practice: Word2Vec\n",
        "\n",
        "今回は Word2Vec の Python ライブラリを使って動かして実習してみる．  \n",
        "ライブラリは [gensim](https://radimrehurek.com/gensim/) の [Word2Vec](https://radimrehurek.com/gensim/models/word2vec.html) ライブラリを使う．  \n",
        "\n",
        "In this lecture, we will practice using the Python library of the [Word2Vec](https://radimrehurek.com/gensim/models/word2vec.html) in the [gensim](https://radimrehurek.com/gensim/) ."
      ]
    },
    {
      "cell_type": "markdown",
      "source": [
        "# gensim のインストール"
      ],
      "metadata": {
        "id": "qiPY3yrU-wVi"
      }
    },
    {
      "cell_type": "code",
      "source": [
        "!pip install --upgrade gensim"
      ],
      "metadata": {
        "colab": {
          "base_uri": "https://localhost:8080/"
        },
        "id": "EIw0HML5-v7-",
        "outputId": "519ec3bc-79ba-4619-8e63-7804b3caa83b"
      },
      "execution_count": null,
      "outputs": [
        {
          "output_type": "stream",
          "name": "stdout",
          "text": [
            "Looking in indexes: https://pypi.org/simple, https://us-python.pkg.dev/colab-wheels/public/simple/\n",
            "Requirement already satisfied: gensim in /usr/local/lib/python3.7/dist-packages (3.6.0)\n",
            "Collecting gensim\n",
            "  Downloading gensim-4.2.0-cp37-cp37m-manylinux_2_12_x86_64.manylinux2010_x86_64.whl (24.1 MB)\n",
            "\u001b[K     |████████████████████████████████| 24.1 MB 1.3 MB/s \n",
            "\u001b[?25hRequirement already satisfied: numpy>=1.17.0 in /usr/local/lib/python3.7/dist-packages (from gensim) (1.21.6)\n",
            "Requirement already satisfied: scipy>=0.18.1 in /usr/local/lib/python3.7/dist-packages (from gensim) (1.7.3)\n",
            "Requirement already satisfied: smart-open>=1.8.1 in /usr/local/lib/python3.7/dist-packages (from gensim) (5.2.1)\n",
            "Installing collected packages: gensim\n",
            "  Attempting uninstall: gensim\n",
            "    Found existing installation: gensim 3.6.0\n",
            "    Uninstalling gensim-3.6.0:\n",
            "      Successfully uninstalled gensim-3.6.0\n",
            "Successfully installed gensim-4.2.0\n"
          ]
        }
      ]
    },
    {
      "cell_type": "markdown",
      "metadata": {
        "id": "4dkucWddv4Wv"
      },
      "source": [
        "## 分散表現の学習\n",
        "## Learning Distributed Representations\n",
        "\n"
      ]
    },
    {
      "cell_type": "code",
      "execution_count": null,
      "metadata": {
        "id": "947vKLbFv4Ge"
      },
      "outputs": [],
      "source": [
        "from gensim.models import Word2Vec\n",
        "\n",
        "sample_sents = [['this', 'is', 'a', 'first', 'sentence', '.'],\n",
        "                ['this', 'is', 'a', 'second', 'sentence', '.']]\n",
        "model = Word2Vec(sentences=sample_sents, vector_size=100, window=5, min_count=1)"
      ]
    },
    {
      "cell_type": "markdown",
      "metadata": {
        "id": "J9z_RKwnwEiL"
      },
      "source": [
        "## オプション\n",
        "## Options"
      ]
    },
    {
      "cell_type": "markdown",
      "metadata": {
        "id": "z0ZjoDs-2LTs"
      },
      "source": [
        "オプションと説明  \n",
        "sentences：元となるコーパス．単語リストのリスト．\t  \n",
        "courpus_file：コーパスをファイル読み込みする場合に指定．1行1文の形式で，単語は空白区切りで認識される．  \t\n",
        "size：分散表現の次元．デフォルト値 100  \n",
        "windows：学習時に利用される文脈の広さ．\tデフォルト値 5  \n",
        "min_count：分散表現を獲得する単語の最小頻度．1 なら全ての単語について獲得される．デフォルト値\t5  \n",
        "workers：学習時の使用スレッド数．デフォルト値\t3  \n",
        "sg：学習アルゴリズムの選択．1 なら skip-gram，0 なら CBOW．デフォルト値\t0 (CBOW)  \n"
      ]
    },
    {
      "cell_type": "markdown",
      "metadata": {
        "id": "UKWUnc_PwJwT"
      },
      "source": [
        "## 機能\n",
        "## Operation and function\n",
        "\n"
      ]
    },
    {
      "cell_type": "markdown",
      "metadata": {
        "id": "IRn6iaS-2J7H"
      },
      "source": [
        "機能の説明"
      ]
    },
    {
      "cell_type": "markdown",
      "metadata": {
        "id": "maYD2IICZHa4"
      },
      "source": [
        "上のセルと同じソースコード．  \n",
        "データとモデルの準備．\n",
        "\n",
        "It is the same source code in the former cell.  \n",
        "Preparation of the learning data and a model.  \n"
      ]
    },
    {
      "cell_type": "code",
      "execution_count": null,
      "metadata": {
        "id": "_9j2Dy7u1htL"
      },
      "outputs": [],
      "source": [
        "from gensim.models import word2vec\n",
        "\n",
        "sample_sents = [['this', 'is', 'a', 'first', 'sentence', '.'],\n",
        "                ['this', 'is', 'a', 'second', 'sentence', '.']]\n",
        "model = word2vec.Word2Vec(sentences=sample_sents, vector_size=3, window=5, min_count=1)"
      ]
    },
    {
      "cell_type": "markdown",
      "metadata": {
        "id": "NKLEEADz2Jd1"
      },
      "source": [
        "*   ある単語の分散表現を得る．  \n",
        "    .wv は Word2VecKeyedVectors というオブジェクト.    \n",
        "    単語をキー，分散表現を値に持つ辞書のように扱える．  \n",
        "    最近は直接モデルに単語を渡す形式が推奨されている．\n",
        "\n",
        "*  Obtain a distributed representation of a word.  \n",
        "    .wv is an object of \"Word2VecKeyedVectors\".    \n",
        "    It can be handled like a dictionary with words as keys and distributed representations as values.  \n",
        "    Recently, the format of passing words directly to the model has been recommended."
      ]
    },
    {
      "cell_type": "code",
      "execution_count": null,
      "metadata": {
        "colab": {
          "base_uri": "https://localhost:8080/"
        },
        "id": "77yS5C4HvCSs",
        "outputId": "9fdb33b0-ebe5-4105-fbbb-543f98a58732"
      },
      "outputs": [
        {
          "output_type": "stream",
          "name": "stdout",
          "text": [
            "[-0.15122049  0.21846835 -0.16200535]\n"
          ]
        }
      ],
      "source": [
        "print(model.wv['this'])"
      ]
    },
    {
      "cell_type": "markdown",
      "metadata": {
        "id": "RCxpnkz42JI4"
      },
      "source": [
        "\n",
        "\n",
        "*   2 つの単語の類似度を得る．\n",
        "\n",
        "*   Obtain the similarity between two words.\n",
        "\n",
        "\n"
      ]
    },
    {
      "cell_type": "code",
      "execution_count": null,
      "metadata": {
        "colab": {
          "base_uri": "https://localhost:8080/"
        },
        "id": "vABzO4Qj1rAU",
        "outputId": "93eb6576-475a-4acd-90f8-3243bacae91d"
      },
      "outputs": [
        {
          "output_type": "stream",
          "name": "stdout",
          "text": [
            "-0.09475687\n"
          ]
        }
      ],
      "source": [
        "print(model.wv.similarity('first', 'second'))"
      ]
    },
    {
      "cell_type": "markdown",
      "metadata": {
        "id": "KLPC8mOm2ITA"
      },
      "source": [
        "\n",
        "*    ある単語と類似している単語を上位 *topn* 件得る．  \n",
        "    返り値は (単語, 類似度) のリスト．  \n",
        "*    Obtain the *topn* words that are similar to a word.  \n",
        "    The return value is a list of (words, similarity).  \n",
        "\n"
      ]
    },
    {
      "cell_type": "code",
      "execution_count": null,
      "metadata": {
        "colab": {
          "base_uri": "https://localhost:8080/"
        },
        "id": "AIKF316J1s0s",
        "outputId": "2b10397f-e052-4f8b-a301-64f801029d19"
      },
      "outputs": [
        {
          "output_type": "stream",
          "name": "stdout",
          "text": [
            "[('is', 0.9267787933349609), ('second', 0.673219621181488), ('a', 0.475419819355011), ('.', -0.43415629863739014), ('first', -0.4411360025405884)]\n"
          ]
        }
      ],
      "source": [
        "n = 5\n",
        "print(model.wv.most_similar('this', topn=n))"
      ]
    },
    {
      "cell_type": "markdown",
      "metadata": {
        "id": "oMEmbMze2H30"
      },
      "source": [
        "*   単語ベクトルの足し引き．  \n",
        "    王 - 男 + 女 = 女王 みたいなやつ．  \n",
        "    positive に正の項の単語を，negative に負の項の単語を指定する．  \n",
        "    topn で上位 *topn* 件を得る．\n",
        "\n",
        "*   Adding and subtracting word vectors.  \n",
        "    Like the fomula \"king\" - \"man\" + \"woman\" = \"queen\"   \n",
        "    The parameter \"positive\" is the positive words and the parameter \"negative\" is the negative words.  \n",
        "    In the fomula, \"king\", \"woman\" is positive words and \"man\" is a negative word.\n",
        "\n"
      ]
    },
    {
      "cell_type": "code",
      "execution_count": null,
      "metadata": {
        "colab": {
          "base_uri": "https://localhost:8080/"
        },
        "id": "9gHQMjdE1xvw",
        "outputId": "32261c6f-8402-4a63-d136-f40d196bb92b"
      },
      "outputs": [
        {
          "output_type": "stream",
          "name": "stdout",
          "text": [
            "[('sentence', 0.2961905896663666)]\n"
          ]
        }
      ],
      "source": [
        "print(model.wv.most_similar(positive=['this', 'first'], negative=['second'], topn=1))\n"
      ]
    },
    {
      "cell_type": "markdown",
      "metadata": {
        "id": "ZwCMdVTcwPgy"
      },
      "source": [
        "## 保存と読み込み\n",
        "## Save and Load"
      ]
    },
    {
      "cell_type": "markdown",
      "metadata": {
        "id": "RrUcQgy62EDS"
      },
      "source": [
        "学習した分散表現は .wv.save_word2vec_format(保存ファイルパス) で保存できる．\n",
        "\n",
        "The learned distributed representation can be saved with \".wv.save_word2vec_format(save file path)\"."
      ]
    },
    {
      "cell_type": "code",
      "execution_count": null,
      "metadata": {
        "id": "I5ZPW2L8wiuR"
      },
      "outputs": [],
      "source": [
        "from gensim.models import word2vec\n",
        "from gensim.models import KeyedVectors\n",
        "\n",
        "sample_sents = [['this', 'is', 'a', 'first', 'sentence', '.'],\n",
        "                ['this', 'is', 'a', 'second', 'sentence', '.']]\n",
        "model = word2vec.Word2Vec(sample_sents, vector_size=3, window=5, min_count=1)\n",
        "model.wv.save_word2vec_format('sample_word2vec.txt')"
      ]
    },
    {
      "cell_type": "markdown",
      "metadata": {
        "id": "CjCyb1BNgWTX"
      },
      "source": [
        "保存結果はこんな感じ．  \n",
        "1 行目 単語数とベクトルの次元数\n",
        "2 行目以降 単語と分散表現．1 行 1 単語．\n",
        "区切り文字は空白文字\n",
        "\n",
        "The contents of the saved result looks like this.    \n",
        "Row 1 Number of words and vector dimension.  \n",
        "Row 2 and after Word and variance representation. 1 word per line.\n",
        "The delimiter is a space character.\n",
        "\n"
      ]
    },
    {
      "cell_type": "code",
      "execution_count": null,
      "metadata": {
        "colab": {
          "base_uri": "https://localhost:8080/",
          "height": 135
        },
        "id": "_Kx8wsgJgT4e",
        "outputId": "9327708d-d47c-44e5-f9fa-74a21fc124c9"
      },
      "outputs": [
        {
          "output_type": "error",
          "ename": "SyntaxError",
          "evalue": "ignored",
          "traceback": [
            "\u001b[0;36m  File \u001b[0;32m\"<ipython-input-9-7e6aeccab695>\"\u001b[0;36m, line \u001b[0;32m1\u001b[0m\n\u001b[0;31m    7 3\u001b[0m\n\u001b[0m      ^\u001b[0m\n\u001b[0;31mSyntaxError\u001b[0m\u001b[0;31m:\u001b[0m invalid syntax\n"
          ]
        }
      ],
      "source": [
        "7 3\n",
        "this 0.07201037 -0.12112698 -0.07045645\n",
        "is -0.15853737 0.027887143 -0.04292598\n",
        "a 0.14505126 -0.033501573 0.0331351\n",
        "sentence 0.10795988 -0.029394923 0.06299468\n",
        ". 0.14169705 -0.07158032 0.04967868\n",
        "first 0.018927146 0.025681395 -0.15682681\n",
        "second 0.09974431 0.027537124 0.040653866"
      ]
    },
    {
      "cell_type": "markdown",
      "metadata": {
        "id": "8Nbyj9Sf2EZl"
      },
      "source": [
        "7 3\n",
        "this 0.07201037 -0.12112698 -0.07045645\n",
        "is -0.15853737 0.027887143 -0.04292598\n",
        "a 0.14505126 -0.033501573 0.0331351\n",
        "sentence 0.10795988 -0.029394923 0.06299468\n",
        ". 0.14169705 -0.07158032 0.04967868\n",
        "first 0.018927146 0.025681395 -0.15682681\n",
        "second 0.09974431 0.027537124 0.040653866\n",
        "\n"
      ]
    },
    {
      "cell_type": "markdown",
      "metadata": {
        "id": "EpglmKD5hJzn"
      },
      "source": [
        "一般には，容量削減のために binary=True としてバイナリファイルで保存・公開されることが多い．\n",
        "\n",
        "In general, the data are often saved and published to binary files as binary=True in order to reduce space requirements."
      ]
    },
    {
      "cell_type": "code",
      "execution_count": null,
      "metadata": {
        "id": "ocEh9srj16vg"
      },
      "outputs": [],
      "source": [
        "model.wv.save_word2vec_format('sample_word2vec.bin', binary=True)"
      ]
    },
    {
      "cell_type": "markdown",
      "metadata": {
        "id": "ODaF47aD2FVm"
      },
      "source": [
        ".wv.save_word2vec_format() で保存された分散表現は，KeyedVectors.load_word2vec_format(ファイルパス) で読み込めます．\n",
        "\n",
        "Distributed expressions saved with \".wv.save_word2vec_format()\" can be loaded with \"KeyedVectors.load_word2vec_format(file path)\"."
      ]
    },
    {
      "cell_type": "code",
      "execution_count": null,
      "metadata": {
        "colab": {
          "base_uri": "https://localhost:8080/"
        },
        "id": "6nQnAogJ1_f7",
        "outputId": "5347d82b-9735-45a9-aa7e-b62de09545ee"
      },
      "outputs": [
        {
          "output_type": "stream",
          "name": "stdout",
          "text": [
            "[-0.15122049  0.21846835 -0.16200535]\n"
          ]
        }
      ],
      "source": [
        "from gensim.models import KeyedVectors\n",
        "\n",
        "model = KeyedVectors.load_word2vec_format('sample_word2vec.txt')\n",
        "print(model['this']) "
      ]
    },
    {
      "cell_type": "markdown",
      "metadata": {
        "id": "bwHAAr902Fqk"
      },
      "source": [
        "バイナリファイルを読み込む場合は，保存のときと同様 binary=True を指定します．\n",
        "\n",
        "To load a binary file, specify binary=True as when saving."
      ]
    },
    {
      "cell_type": "code",
      "execution_count": null,
      "metadata": {
        "id": "pINBw3oL2B6O"
      },
      "outputs": [],
      "source": [
        "from gensim.models import KeyedVectors\n",
        "\n",
        "model = KeyedVectors.load_word2vec_format('sample_word2vec.bin', binary=True)"
      ]
    },
    {
      "cell_type": "markdown",
      "metadata": {
        "id": "B-jWezujO2HK"
      },
      "source": [
        "## 事前学習済みモデルの利用\n",
        "\n",
        "gensim はさまざまな事前学習モデルを保存していて，ダウンロードすると使えるようになっている．\n",
        "\n",
        "## Use of pre-trained models\n",
        "\n",
        "gensim stores a variety of pre-trained models that can be downloaded and used."
      ]
    },
    {
      "cell_type": "code",
      "execution_count": null,
      "metadata": {
        "colab": {
          "base_uri": "https://localhost:8080/"
        },
        "id": "8JlzrCzFOlN3",
        "outputId": "b112105a-4bf3-40ba-e3f0-65536688228c"
      },
      "outputs": [
        {
          "output_type": "stream",
          "name": "stdout",
          "text": [
            "fasttext-wiki-news-subwords-300\n",
            "conceptnet-numberbatch-17-06-300\n",
            "word2vec-ruscorpora-300\n",
            "word2vec-google-news-300\n",
            "glove-wiki-gigaword-50\n",
            "glove-wiki-gigaword-100\n",
            "glove-wiki-gigaword-200\n",
            "glove-wiki-gigaword-300\n",
            "glove-twitter-25\n",
            "glove-twitter-50\n",
            "glove-twitter-100\n",
            "glove-twitter-200\n",
            "__testing_word2vec-matrix-synopsis\n"
          ]
        }
      ],
      "source": [
        "import gensim.downloader\n",
        "for n in list(gensim.downloader.info()['models'].keys()):\n",
        "  print(n)\n"
      ]
    },
    {
      "cell_type": "markdown",
      "metadata": {
        "id": "UgDxxmHCPU-m"
      },
      "source": [
        "例えば，GLoVe の twitter のデータで作られたモデルを読み込んで使ってみる．\n",
        "\n",
        "For example, try loading and using a model created with twitter data from GLoVe."
      ]
    },
    {
      "cell_type": "code",
      "execution_count": null,
      "metadata": {
        "colab": {
          "base_uri": "https://localhost:8080/"
        },
        "id": "-Cn_tDXuPQFi",
        "outputId": "6190e555-058b-4514-cf48-32d242a8600b"
      },
      "outputs": [
        {
          "output_type": "stream",
          "name": "stdout",
          "text": [
            "[==================================================] 100.0% 104.8/104.8MB downloaded\n"
          ]
        },
        {
          "output_type": "execute_result",
          "data": {
            "text/plain": [
              "[('facebook', 0.948005199432373),\n",
              " ('tweet', 0.9403423070907593),\n",
              " ('fb', 0.9342358708381653),\n",
              " ('instagram', 0.9104824066162109),\n",
              " ('chat', 0.8964964747428894),\n",
              " ('hashtag', 0.8885937333106995),\n",
              " ('tweets', 0.8878158330917358),\n",
              " ('tl', 0.8778461217880249),\n",
              " ('link', 0.8778210878372192),\n",
              " ('internet', 0.8753897547721863)]"
            ]
          },
          "metadata": {},
          "execution_count": 14
        }
      ],
      "source": [
        "glove_vectors = gensim.downloader.load('glove-twitter-25')\n",
        "glove_vectors.most_similar('twitter')"
      ]
    },
    {
      "cell_type": "markdown",
      "metadata": {
        "id": "1P33jpLxP5Qi"
      },
      "source": [
        "詳細は [Gensim-data リポジトリ](https://github.com/RaRe-Technologies/gensim-data) を参照．\n",
        "\n",
        "See [Gensim-data repository](https://github.com/RaRe-Technologies/gensim-data) for details."
      ]
    },
    {
      "cell_type": "markdown",
      "metadata": {
        "id": "GsU5pxCP-n8A"
      },
      "source": [
        "### ある単語の分散表現ベクトルを得る"
      ]
    },
    {
      "cell_type": "code",
      "execution_count": null,
      "metadata": {
        "colab": {
          "base_uri": "https://localhost:8080/"
        },
        "id": "3M4ZgAg5-n8A",
        "outputId": "7a74a983-d143-40ca-841e-90a8ddb4ac1a"
      },
      "outputs": [
        {
          "output_type": "stream",
          "name": "stdout",
          "text": [
            "[-0.17895   0.38406   0.073035 -0.32363  -0.092441 -0.40767   2.1\n",
            " -0.11363  -0.58784  -0.17034  -0.6433    0.72388  -5.7839   -0.10406\n",
            "  0.52152  -0.11314   0.59554  -0.47587  -0.4551    0.084431 -0.4582\n",
            " -0.16727   0.54594   0.035478 -0.16073 ]\n"
          ]
        }
      ],
      "source": [
        "print(glove_vectors['this'])"
      ]
    },
    {
      "cell_type": "markdown",
      "metadata": {
        "id": "WkN9iAly-n8A"
      },
      "source": [
        "### 単語の意味の近さ (類似度) を調べる"
      ]
    },
    {
      "cell_type": "code",
      "execution_count": null,
      "metadata": {
        "colab": {
          "base_uri": "https://localhost:8080/"
        },
        "id": "AHXLlRD_-n8B",
        "outputId": "34f25e61-b801-4e3c-c4f2-d60a20e83cac"
      },
      "outputs": [
        {
          "output_type": "stream",
          "name": "stdout",
          "text": [
            "0.96918696\n"
          ]
        }
      ],
      "source": [
        "print(glove_vectors.similarity('first', 'second'))"
      ]
    },
    {
      "cell_type": "markdown",
      "metadata": {
        "id": "wcrpMnYN-n8B"
      },
      "source": [
        "### 似ている単語を似ている順に出力する"
      ]
    },
    {
      "cell_type": "code",
      "execution_count": null,
      "metadata": {
        "colab": {
          "base_uri": "https://localhost:8080/"
        },
        "id": "p4D6MwNA-n8B",
        "outputId": "cd68ef38-60d8-4057-be6d-0e904ce34ab0"
      },
      "outputs": [
        {
          "output_type": "stream",
          "name": "stdout",
          "text": [
            "[('windows', 0.8948712944984436), ('microsoft', 0.8858076333999634), ('google', 0.8823867440223694), ('galaxy', 0.8806391358375549), ('flash', 0.8793812394142151)]\n"
          ]
        }
      ],
      "source": [
        "n = 5 # 表示する個数を 5 個にする\n",
        "print(glove_vectors.most_similar('apple', topn=n))"
      ]
    },
    {
      "cell_type": "markdown",
      "metadata": {
        "id": "1YHgnmjp-n8B"
      },
      "source": [
        "### 意味を計算する\n",
        "単語を分散表現のベクトルに変換しているからできる．"
      ]
    },
    {
      "cell_type": "code",
      "execution_count": null,
      "metadata": {
        "colab": {
          "base_uri": "https://localhost:8080/"
        },
        "id": "rbTng9aD-n8B",
        "outputId": "ab850d18-cd97-4b34-d838-0856d3c3de0d"
      },
      "outputs": [
        {
          "output_type": "stream",
          "name": "stdout",
          "text": [
            "[('meets', 0.8841924071311951), ('prince', 0.832163393497467), ('queen', 0.8257461190223694), ('’s', 0.8174097537994385), ('crow', 0.813499391078949)]\n"
          ]
        }
      ],
      "source": [
        "print(glove_vectors.most_similar(positive=['king', 'woman'], negative=['man'], topn=5))\n"
      ]
    },
    {
      "cell_type": "markdown",
      "metadata": {
        "id": "RIZ_67Nkwjl5"
      },
      "source": [
        "## 課題 20221101-1\n",
        "## 必須\n",
        "gensim の Word2Vec を用いて，[テキストファイルのデータ](https://drive.google.com/file/d/1QLURuP0gcA2ZtId34Dx1exIfNZ9DYvT_/view?usp=sharing)を基に学習をして，その結果を報告すること．  \n",
        "\n",
        "1.   学習できるように適切に単語のリストを作成し，上記のソースコードを参考にしてモデルの学習をすること．  \n",
        "  テキストファイル中の記号の除去など前処理が必要な場合は適宜処理すること．\n",
        "3.  学習した単語を複数選択し，それらの最も似ている単語の情報を取得すること．\n",
        "  ただし，名詞，形容詞，動詞をそれぞれ最低 1 個選択すること．  \n",
        "4.   いくつかの単語を選択し，単語の分散表現ベクトルの加減算を実行して，その結果を確認すること．  \n",
        "5.  学習アルゴリズムを CBoW から Skip-gram に変更して結果を確認すること．\n",
        "\n",
        "## 追加\n",
        "もっとできる人へ．\n",
        "1.  ウェブ上の別の分散表現の情報を上記モデルを用いて読み込むこと．  \n",
        "2.  読み込んだモデルにより必須課題で用いた単語の情報を必須課題と同様に取得すること．  \n",
        "2.  そしてその内容がどのように異なっているか確認すること．\n",
        "4.  対義語や多義語に着目して結果を確認すること．  \n",
        "  形容詞や動詞の似ている単語の情報を精査して，対義語や多義語に関連した情報が含まれているか調べること．\n",
        "3.  これらの結果について考察を記述すること．\n",
        "\n",
        "## その他の情報\n",
        "*  形式  \n",
        "    PDF 形式．  \n",
        "*  提出方法  \n",
        "    1G github にアップロードして，slack に URL を送ること\n",
        "*  提出先  \n",
        "    1G slack #group-b3\n",
        "*  締め切り  \n",
        "    来週の講義開始時刻まで．\n"
      ]
    },
    {
      "cell_type": "markdown",
      "source": [
        "# 日本語 Word2Vec について\n",
        "\n",
        "今回は ChiVe を使ってみる．  \n",
        "いろいろと日本語のモデルはあるけれど，今回は簡単に使えるもので試す．\n",
        "\n",
        "参考ページ [chiVeをWord2Vecの学習済み日本語モデルとして利用する](https://self-development.info/chive%E3%82%92word2vec%E3%81%AE%E5%AD%A6%E7%BF%92%E6%B8%88%E3%81%BF%E6%97%A5%E6%9C%AC%E8%AA%9E%E3%83%A2%E3%83%87%E3%83%AB%E3%81%A8%E3%81%97%E3%81%A6%E5%88%A9%E7%94%A8%E3%81%99%E3%82%8B/)"
      ],
      "metadata": {
        "id": "4CRuCN-rD-iT"
      }
    },
    {
      "cell_type": "markdown",
      "source": [
        "## chiVe と Sudachpy の用意"
      ],
      "metadata": {
        "id": "zVN3vOupD-S7"
      }
    },
    {
      "cell_type": "code",
      "source": [
        "!pip install --upgrade sudachipy sudachidict_core"
      ],
      "metadata": {
        "colab": {
          "base_uri": "https://localhost:8080/"
        },
        "id": "JyO9YEkWEv7R",
        "outputId": "adc90e77-4aae-4ae1-8405-e022580ac6fa"
      },
      "execution_count": null,
      "outputs": [
        {
          "output_type": "stream",
          "name": "stdout",
          "text": [
            "Looking in indexes: https://pypi.org/simple, https://us-python.pkg.dev/colab-wheels/public/simple/\n",
            "Collecting sudachipy\n",
            "  Downloading SudachiPy-0.6.6-cp37-cp37m-manylinux_2_5_x86_64.manylinux1_x86_64.manylinux_2_12_x86_64.manylinux2010_x86_64.whl (2.2 MB)\n",
            "\u001b[K     |████████████████████████████████| 2.2 MB 12.7 MB/s \n",
            "\u001b[?25hCollecting sudachidict_core\n",
            "  Downloading SudachiDict-core-20221021.tar.gz (9.0 kB)\n",
            "Building wheels for collected packages: sudachidict-core\n",
            "  Building wheel for sudachidict-core (setup.py) ... \u001b[?25l\u001b[?25hdone\n",
            "  Created wheel for sudachidict-core: filename=SudachiDict_core-20221021-py3-none-any.whl size=71574781 sha256=94107ecc2636deafbd09bf6789012e7683f2fcba81ebf1e8704e62ce83e6cc1f\n",
            "  Stored in directory: /root/.cache/pip/wheels/66/a9/e1/bde612c31f0ae6877e7e39f278076befd399c488cba80292b6\n",
            "Successfully built sudachidict-core\n",
            "Installing collected packages: sudachipy, sudachidict-core\n",
            "Successfully installed sudachidict-core-20221021 sudachipy-0.6.6\n"
          ]
        }
      ]
    },
    {
      "cell_type": "markdown",
      "source": [
        "SudachiPy のテスト"
      ],
      "metadata": {
        "id": "vMzIcN-rGPI_"
      }
    },
    {
      "cell_type": "code",
      "source": [
        "from sudachipy import tokenizer\n",
        "from sudachipy import dictionary\n",
        "\n",
        "tokenizer_obj = dictionary.Dictionary().create()\n",
        "\n",
        "s_test = 'これはテストの文章です'\n",
        "\n",
        "for m in tokenizer_obj.tokenize(s_test):\n",
        "  print(m.surface(), m.dictionary_form(), m.normalized_form(), m.part_of_speech())"
      ],
      "metadata": {
        "colab": {
          "base_uri": "https://localhost:8080/"
        },
        "id": "CaE9SvYPFTOS",
        "outputId": "c6bfb1da-3a5f-4005-fadb-94b4d62555e1"
      },
      "execution_count": null,
      "outputs": [
        {
          "output_type": "stream",
          "name": "stdout",
          "text": [
            "これ これ 此れ ('代名詞', '*', '*', '*', '*', '*')\n",
            "は は は ('助詞', '係助詞', '*', '*', '*', '*')\n",
            "テスト テスト テスト ('名詞', '普通名詞', 'サ変可能', '*', '*', '*')\n",
            "の の の ('助詞', '格助詞', '*', '*', '*', '*')\n",
            "文章 文章 文章 ('名詞', '普通名詞', '一般', '*', '*', '*')\n",
            "です です です ('助動詞', '*', '*', '*', '助動詞-デス', '終止形-一般')\n"
          ]
        }
      ]
    },
    {
      "cell_type": "markdown",
      "source": [
        "## chiVe のデータのダウンロード\n",
        "今回はほどほどの大きさのモデル (v1.2 mc90, 0.6 GB) をダウンロードする．"
      ],
      "metadata": {
        "id": "ROOOvCYcDLcf"
      }
    },
    {
      "cell_type": "markdown",
      "source": [
        "Google drive をマウント"
      ],
      "metadata": {
        "id": "e0anqSfIJ2WD"
      }
    },
    {
      "cell_type": "code",
      "source": [
        "from google.colab import drive\n",
        "drive.mount('/content/drive')"
      ],
      "metadata": {
        "colab": {
          "base_uri": "https://localhost:8080/"
        },
        "id": "5y7KZsAIIHQh",
        "outputId": "d11dd43a-b1d7-4ce4-836d-3ff6318aa600"
      },
      "execution_count": null,
      "outputs": [
        {
          "output_type": "stream",
          "name": "stdout",
          "text": [
            "Mounted at /content/drive\n"
          ]
        }
      ]
    },
    {
      "cell_type": "markdown",
      "source": [
        "chiVe のモデルをダウンロード  \n",
        "モデルの URL はウェブページから取得  \n",
        "tar.gz 形式  \n",
        "gensim 用のモデルを選択"
      ],
      "metadata": {
        "id": "9GkD87_lJ5nF"
      }
    },
    {
      "cell_type": "code",
      "source": [
        "!wget -P \"/content/drive/My Drive/Colab Notebooks/\" https://sudachi.s3-ap-northeast-1.amazonaws.com/chive/chive-1.2-mc90_gensim.tar.gz"
      ],
      "metadata": {
        "colab": {
          "base_uri": "https://localhost:8080/"
        },
        "id": "6NYcHDh-ITPz",
        "outputId": "f38fc557-b984-47dd-d001-14867a900bea"
      },
      "execution_count": null,
      "outputs": [
        {
          "output_type": "stream",
          "name": "stdout",
          "text": [
            "--2022-11-10 07:33:12--  https://sudachi.s3-ap-northeast-1.amazonaws.com/chive/chive-1.2-mc90_gensim.tar.gz\n",
            "Resolving sudachi.s3-ap-northeast-1.amazonaws.com (sudachi.s3-ap-northeast-1.amazonaws.com)... 52.219.197.94, 52.219.4.59, 52.219.195.70, ...\n",
            "Connecting to sudachi.s3-ap-northeast-1.amazonaws.com (sudachi.s3-ap-northeast-1.amazonaws.com)|52.219.197.94|:443... connected.\n",
            "HTTP request sent, awaiting response... 200 OK\n",
            "Length: 548987391 (524M) [application/x-gzip]\n",
            "Saving to: ‘/content/drive/My Drive/Colab Notebooks/chive-1.2-mc90_gensim.tar.gz.1’\n",
            "\n",
            "chive-1.2-mc90_gens 100%[===================>] 523.55M  11.1MB/s    in 50s     \n",
            "\n",
            "2022-11-10 07:34:03 (10.5 MB/s) - ‘/content/drive/My Drive/Colab Notebooks/chive-1.2-mc90_gensim.tar.gz.1’ saved [548987391/548987391]\n",
            "\n"
          ]
        }
      ]
    },
    {
      "cell_type": "markdown",
      "source": [
        "ダウンロードしたファイルを解凍"
      ],
      "metadata": {
        "id": "ZJyR0u5oKLUg"
      }
    },
    {
      "cell_type": "code",
      "source": [
        " !tar -zxvf '/content/drive/MyDrive/Colab Notebooks/chive-1.2-mc90_gensim.tar.gz'"
      ],
      "metadata": {
        "colab": {
          "base_uri": "https://localhost:8080/"
        },
        "id": "byJetbVIJb6V",
        "outputId": "36fe3bdb-5294-459f-d047-a9c3db32971d"
      },
      "execution_count": null,
      "outputs": [
        {
          "output_type": "stream",
          "name": "stdout",
          "text": [
            "chive-1.2-mc90_gensim/\n",
            "chive-1.2-mc90_gensim/chive-1.2-mc90.kv\n",
            "chive-1.2-mc90_gensim/chive-1.2-mc90.kv.vectors.npy\n",
            "chive-1.2-mc90_gensim/LICENSE\n",
            "chive-1.2-mc90_gensim/README.md\n"
          ]
        }
      ]
    },
    {
      "cell_type": "code",
      "source": [
        "import gensim\n",
        " \n",
        "# chiVeデータのPATH（kv:KeyedVectors）\n",
        "model_path = \"/content/chive-1.2-mc90_gensim/chive-1.2-mc90.kv\"\n",
        " \n",
        "# モデルの読み込み\n",
        "m_chiVe = KeyedVectors.load(model_path)\n",
        "\n",
        "# 類似度上位10件を取得\n",
        "match = m_chiVe.most_similar(\"SEO\", topn=10)\n",
        " \n",
        "# 見やすい形式で表示\n",
        "for x in match:\n",
        "  print(x)\n"
      ],
      "metadata": {
        "colab": {
          "base_uri": "https://localhost:8080/"
        },
        "id": "qgXYb10EK5_C",
        "outputId": "29a446e6-a49b-40d3-c39e-825ba65ab9c8"
      },
      "execution_count": null,
      "outputs": [
        {
          "output_type": "stream",
          "name": "stdout",
          "text": [
            "('検索エンジン', 0.766740620136261)\n",
            "('リスティング', 0.6959132552146912)\n",
            "('セスアップ', 0.68496173620224)\n",
            "('サーチエンジン', 0.669530987739563)\n",
            "('アドワーズ', 0.6563192009925842)\n",
            "('アフィリエイト', 0.6549422740936279)\n",
            "('アドセンス', 0.6434396505355835)\n",
            "('集客', 0.636823832988739)\n",
            "('pagerank', 0.6277484893798828)\n",
            "('lpo', 0.620184600353241)\n"
          ]
        }
      ]
    },
    {
      "cell_type": "code",
      "source": [
        "# 類似度上位10件を取得\n",
        "match = m_chiVe.most_similar(\"大学\", topn=10)\n",
        " \n",
        "# 見やすい形式で表示\n",
        "for x in match:\n",
        "  print(x)"
      ],
      "metadata": {
        "colab": {
          "base_uri": "https://localhost:8080/"
        },
        "id": "h8FOpEq9LhzD",
        "outputId": "7759005c-11b0-44bd-dea1-1cdefeeff877"
      },
      "execution_count": null,
      "outputs": [
        {
          "output_type": "stream",
          "name": "stdout",
          "text": [
            "('大学院', 0.8056544661521912)\n",
            "('学部', 0.7962813377380371)\n",
            "('私立大学', 0.7469471096992493)\n",
            "('国立大学', 0.7234764099121094)\n",
            "('文学部', 0.7177112698554993)\n",
            "('短大', 0.715343177318573)\n",
            "('他大学', 0.7132939696311951)\n",
            "('博士課程', 0.7108903527259827)\n",
            "('経済学部', 0.7098659873008728)\n",
            "('法学部', 0.7040424942970276)\n"
          ]
        }
      ]
    },
    {
      "cell_type": "code",
      "source": [
        "# 類似度上位10件を取得\n",
        "match = m_chiVe.most_similar(\"進捗\", topn=10)\n",
        " \n",
        "# 見やすい形式で表示\n",
        "for x in match:\n",
        "  print(x)"
      ],
      "metadata": {
        "id": "YizOPvSNdkP6",
        "outputId": "d31b069c-149d-4928-91c2-ab14ea8b1454",
        "colab": {
          "base_uri": "https://localhost:8080/"
        }
      },
      "execution_count": null,
      "outputs": [
        {
          "output_type": "stream",
          "name": "stdout",
          "text": [
            "('進捗状況', 0.8763648867607117)\n",
            "('進行状況', 0.7509385347366333)\n",
            "('進み具合', 0.6569173336029053)\n",
            "('進捗度', 0.6340262293815613)\n",
            "('進行具合', 0.5870296955108643)\n",
            "('進行中', 0.5857610106468201)\n",
            "('進捗率', 0.5612523555755615)\n",
            "('着手', 0.5476322174072266)\n",
            "('進める', 0.5417264103889465)\n",
            "('達成度', 0.5408205389976501)\n"
          ]
        }
      ]
    },
    {
      "cell_type": "code",
      "source": [
        "# 類似度上位10件を取得\n",
        "match = m_chiVe.most_similar(\"生む\", topn=10)\n",
        " \n",
        "# 見やすい形式で表示\n",
        "for x in match:\n",
        "  print(x)"
      ],
      "metadata": {
        "colab": {
          "base_uri": "https://localhost:8080/"
        },
        "id": "gAAf1LF8edwJ",
        "outputId": "3d46b227-0eb7-40ec-f303-0a3b7a318c79"
      },
      "execution_count": null,
      "outputs": [
        {
          "output_type": "stream",
          "name": "stdout",
          "text": [
            "('生まれる', 0.771237313747406)\n",
            "('生み落とす', 0.6707801818847656)\n",
            "('生み出す', 0.6446335315704346)\n",
            "('生み育てる', 0.6202511191368103)\n",
            "('生まれ出る', 0.5480579733848572)\n",
            "('生み', 0.542283296585083)\n",
            "('授かる', 0.5352058410644531)\n",
            "('身籠もる', 0.5304058194160461)\n",
            "('作り出す', 0.5196080207824707)\n",
            "('育つ', 0.5145079493522644)\n"
          ]
        }
      ]
    },
    {
      "cell_type": "code",
      "source": [
        "# 類似度上位10件を取得\n",
        "match = m_chiVe.most_similar(\"辛い\", topn=10)\n",
        " \n",
        "# 見やすい形式で表示\n",
        "for x in match:\n",
        "  print(x)"
      ],
      "metadata": {
        "outputId": "60cd5849-b718-4e47-c003-2a38daef86c8",
        "colab": {
          "base_uri": "https://localhost:8080/"
        },
        "id": "eqoBOw1Ueti8"
      },
      "execution_count": null,
      "outputs": [
        {
          "output_type": "stream",
          "name": "stdout",
          "text": [
            "('きつい', 0.6974570155143738)\n",
            "('しんどい', 0.6832419037818909)\n",
            "('苦しい', 0.6296256184577942)\n",
            "('難い', 0.6096687912940979)\n",
            "('けれど', 0.5978944897651672)\n",
            "('嫌', 0.5968371033668518)\n",
            "('難しい', 0.5846153497695923)\n",
            "('ない', 0.5799782276153564)\n",
            "('悲しい', 0.579379677772522)\n",
            "('痛い', 0.5766283273696899)\n"
          ]
        }
      ]
    },
    {
      "cell_type": "markdown",
      "source": [
        "## 課題 20221101-2\n",
        "## 必須\n",
        "日本語の Word2Vec について調べること．\n",
        "\n",
        "1. 英語のときと同様に上記の読み込んだモデルを用いて，単語の情報を取得すること．単語の選択は自由とする．  \n",
        "英語のときと同様に名詞，動詞，形容詞を最低 1 個ずつ選ぶこと．  \n",
        "2.  その内容について確認して，考察を記述すること．\n",
        "\n",
        "## その他の情報\n",
        "*  形式  \n",
        "    PDF 形式．  \n",
        "*  提出方法  \n",
        "    1G github にアップロードして，slack に URL を送ること\n",
        "*  提出先  \n",
        "    1G slack #group-b3\n",
        "*  締め切り  \n",
        "    来週の講義開始時刻まで．"
      ],
      "metadata": {
        "id": "aNU7ilnOMPPi"
      }
    },
    {
      "cell_type": "markdown",
      "metadata": {
        "id": "9W3Hf8QfFWBb"
      },
      "source": [
        "参考ウェブサイト  \n",
        "Referenced web site  \n",
        "https://gotutiyan.hatenablog.com/entry/2021/01/14/011030\n",
        "\n",
        "[Google Code Archive word2vec](https://code.google.com/archive/p/word2vec/)  \n",
        "[GLoVe](https://nlp.stanford.edu/projects/glove/)"
      ]
    }
  ],
  "metadata": {
    "colab": {
      "collapsed_sections": [
        "pcwwkYi6tc_S"
      ],
      "provenance": []
    },
    "kernelspec": {
      "display_name": "Python 3.9.12 ('base')",
      "language": "python",
      "name": "python3"
    },
    "language_info": {
      "codemirror_mode": {
        "name": "ipython",
        "version": 3
      },
      "file_extension": ".py",
      "mimetype": "text/x-python",
      "name": "python",
      "nbconvert_exporter": "python",
      "pygments_lexer": "ipython3",
      "version": "3.9.12"
    },
    "vscode": {
      "interpreter": {
        "hash": "6e21bb7caf8c7b2c0c7cc561648a691d171632da0970b236779a2d8ab0d97eda"
      }
    }
  },
  "nbformat": 4,
  "nbformat_minor": 0
}